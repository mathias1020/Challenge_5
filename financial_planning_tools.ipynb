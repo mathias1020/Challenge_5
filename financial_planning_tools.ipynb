{
 "cells": [
  {
   "cell_type": "markdown",
   "metadata": {},
   "source": [
    "# Financial Planning with APIs and Simulations\n",
    "\n",
    "In this Challenge, you’ll create two financial analysis tools by using a single Jupyter notebook:\n",
    "\n",
    "Part 1: A financial planner for emergencies. The members will be able to use this tool to visualize their current savings. The members can then determine if they have enough reserves for an emergency fund.\n",
    "\n",
    "Part 2: A financial planner for retirement. This tool will forecast the performance of their retirement portfolio in 30 years. To do this, the tool will make an Alpaca API call via the Alpaca SDK to get historical price data for use in Monte Carlo simulations.\n",
    "\n",
    "You’ll use the information from the Monte Carlo simulation to answer questions about the portfolio in your Jupyter notebook.\n",
    "\n"
   ]
  },
  {
   "cell_type": "code",
   "execution_count": 64,
   "metadata": {},
   "outputs": [],
   "source": [
    "# Import the required libraries and dependencies\n",
    "import os\n",
    "import requests\n",
    "import json\n",
    "import pandas as pd\n",
    "from dotenv import load_dotenv\n",
    "import alpaca_trade_api as tradeapi\n",
    "from MCForecastTools import MCSimulation\n",
    "\n",
    "%matplotlib inline"
   ]
  },
  {
   "cell_type": "code",
   "execution_count": 65,
   "metadata": {},
   "outputs": [
    {
     "data": {
      "text/plain": [
       "True"
      ]
     },
     "execution_count": 65,
     "metadata": {},
     "output_type": "execute_result"
    }
   ],
   "source": [
    "# Load the environment variables from the .env file\n",
    "#by calling the load_dotenv function\n",
    "load_dotenv()"
   ]
  },
  {
   "cell_type": "markdown",
   "metadata": {},
   "source": [
    "## Part 1: Create a Financial Planner for Emergencies"
   ]
  },
  {
   "cell_type": "markdown",
   "metadata": {},
   "source": [
    "### Evaluate the Cryptocurrency Wallet by Using the Requests Library\n",
    "\n",
    "In this section, you’ll determine the current value of a member’s cryptocurrency wallet. You’ll collect the current prices for the Bitcoin and Ethereum cryptocurrencies by using the Python Requests library. For the prototype, you’ll assume that the member holds the 1.2 Bitcoins (BTC) and 5.3 Ethereum coins (ETH). To do all this, complete the following steps:\n",
    "\n",
    "1. Create a variable named `monthly_income`, and set its value to `12000`.\n",
    "\n",
    "2. Use the Requests library to get the current price (in US dollars) of Bitcoin (BTC) and Ethereum (ETH) by using the API endpoints that the starter code supplies.\n",
    "\n",
    "3. Navigate the JSON response object to access the current price of each coin, and store each in a variable.\n",
    "\n",
    "    > **Hint** Note the specific identifier for each cryptocurrency in the API JSON response. The Bitcoin identifier is `1`, and the Ethereum identifier is `1027`.\n",
    "\n",
    "4. Calculate the value, in US dollars, of the current amount of each cryptocurrency and of the entire cryptocurrency wallet.\n",
    "\n"
   ]
  },
  {
   "cell_type": "code",
   "execution_count": 66,
   "metadata": {},
   "outputs": [],
   "source": [
    "# The current number of coins for each cryptocurrency asset held in the portfolio.\n",
    "btc_coins = 1.2\n",
    "eth_coins = 5.3"
   ]
  },
  {
   "cell_type": "markdown",
   "metadata": {},
   "source": [
    "#### Step 1: Create a variable named `monthly_income`, and set its value to `12000`."
   ]
  },
  {
   "cell_type": "code",
   "execution_count": 67,
   "metadata": {},
   "outputs": [],
   "source": [
    "# The monthly amount for the member's household income\n",
    "monthly_income = 12000\n"
   ]
  },
  {
   "cell_type": "markdown",
   "metadata": {},
   "source": [
    "#### Review the endpoint URLs for the API calls to Free Crypto API in order to get the current pricing information for both BTC and ETH."
   ]
  },
  {
   "cell_type": "code",
   "execution_count": 68,
   "metadata": {},
   "outputs": [],
   "source": [
    "# The Free Crypto API Call endpoint URLs for the held cryptocurrency assets\n",
    "btc_url = \"https://api.alternative.me/v2/ticker/Bitcoin/?convert=USD\"\n",
    "eth_url = \"https://api.alternative.me/v2/ticker/Ethereum/?convert=USD\""
   ]
  },
  {
   "cell_type": "markdown",
   "metadata": {},
   "source": [
    "#### Step 2. Use the Requests library to get the current price (in US dollars) of Bitcoin (BTC) and Ethereum (ETH) by using the API endpoints that the starter code supplied."
   ]
  },
  {
   "cell_type": "code",
   "execution_count": 69,
   "metadata": {},
   "outputs": [
    {
     "name": "stdout",
     "output_type": "stream",
     "text": [
      "{\n",
      "    \"data\": {\n",
      "        \"1\": {\n",
      "            \"circulating_supply\": 19018943,\n",
      "            \"id\": 1,\n",
      "            \"last_updated\": 1650641622,\n",
      "            \"max_supply\": 21000000,\n",
      "            \"name\": \"Bitcoin\",\n",
      "            \"quotes\": {\n",
      "                \"USD\": {\n",
      "                    \"market_cap\": 758961193624,\n",
      "                    \"percent_change_1h\": -0.329551370266274,\n",
      "                    \"percent_change_24h\": -5.97076194582043,\n",
      "                    \"percent_change_7d\": -0.351589522940522,\n",
      "                    \"percentage_change_1h\": -0.329551370266274,\n",
      "                    \"percentage_change_24h\": -5.97076194582043,\n",
      "                    \"percentage_change_7d\": -0.351589522940522,\n",
      "                    \"price\": 39819.0,\n",
      "                    \"volume_24h\": 43238592307\n",
      "                }\n",
      "            },\n",
      "            \"rank\": 1,\n",
      "            \"symbol\": \"BTC\",\n",
      "            \"total_supply\": 19018943,\n",
      "            \"website_slug\": \"bitcoin\"\n",
      "        }\n",
      "    },\n",
      "    \"metadata\": {\n",
      "        \"error\": null,\n",
      "        \"num_cryptocurrencies\": 3106,\n",
      "        \"timestamp\": 1650641622\n",
      "    }\n",
      "}\n"
     ]
    }
   ],
   "source": [
    "# Using the Python requests library, make an API call to access the current price of BTC\n",
    "btc_response = requests.get(btc_url).json()\n",
    "\n",
    "# Use the json.dumps function to review the response data from the API call\n",
    "# Use the indent and sort_keys parameters to make the response object readable\n",
    "print(json.dumps(btc_response, indent=4, sort_keys=True))\n"
   ]
  },
  {
   "cell_type": "code",
   "execution_count": 70,
   "metadata": {},
   "outputs": [
    {
     "name": "stdout",
     "output_type": "stream",
     "text": [
      "{\n",
      "    \"data\": {\n",
      "        \"1027\": {\n",
      "            \"circulating_supply\": 120483653,\n",
      "            \"id\": 1027,\n",
      "            \"last_updated\": 1650641605,\n",
      "            \"max_supply\": 0,\n",
      "            \"name\": \"Ethereum\",\n",
      "            \"quotes\": {\n",
      "                \"USD\": {\n",
      "                    \"market_cap\": 358926241148,\n",
      "                    \"percent_change_1h\": 0.0868183643796576,\n",
      "                    \"percent_change_24h\": -5.05205399417391,\n",
      "                    \"percent_change_7d\": -1.6491471572514,\n",
      "                    \"percentage_change_1h\": 0.0868183643796576,\n",
      "                    \"percentage_change_24h\": -5.05205399417391,\n",
      "                    \"percentage_change_7d\": -1.6491471572514,\n",
      "                    \"price\": 2973.56,\n",
      "                    \"volume_24h\": 19989804766\n",
      "                }\n",
      "            },\n",
      "            \"rank\": 2,\n",
      "            \"symbol\": \"ETH\",\n",
      "            \"total_supply\": 120483653,\n",
      "            \"website_slug\": \"ethereum\"\n",
      "        }\n",
      "    },\n",
      "    \"metadata\": {\n",
      "        \"error\": null,\n",
      "        \"num_cryptocurrencies\": 3106,\n",
      "        \"timestamp\": 1650641605\n",
      "    }\n",
      "}\n"
     ]
    }
   ],
   "source": [
    "# Using the Python requests library, make an API call to access the current price ETH\n",
    "eth_response = requests.get(eth_url).json()\n",
    "\n",
    "# Use the json.dumps function to review the response data from the API call\n",
    "# Use the indent and sort_keys parameters to make the response object readable\n",
    "print(json.dumps(eth_response, indent=4, sort_keys = True))\n"
   ]
  },
  {
   "cell_type": "markdown",
   "metadata": {},
   "source": [
    "#### Step 3: Navigate the JSON response object to access the current price of each coin, and store each in a variable."
   ]
  },
  {
   "cell_type": "code",
   "execution_count": 71,
   "metadata": {},
   "outputs": [
    {
     "name": "stdout",
     "output_type": "stream",
     "text": [
      "The current price of BTC is $39819.00\n"
     ]
    }
   ],
   "source": [
    "# Navigate the BTC response object to access the current price of BTC\n",
    "btc_price = btc_response[\"data\"][\"1\"][\"quotes\"][\"USD\"][\"price\"]\n",
    "\n",
    "# Print the current price of BTC\n",
    "print(f\"The current price of BTC is ${btc_price:0.2f}\")\n"
   ]
  },
  {
   "cell_type": "code",
   "execution_count": 72,
   "metadata": {},
   "outputs": [
    {
     "name": "stdout",
     "output_type": "stream",
     "text": [
      "The current price of ETH is $2973.56\n"
     ]
    }
   ],
   "source": [
    "# Navigate the BTC response object to access the current price of ETH\n",
    "eth_price = eth_response[\"data\"][\"1027\"][\"quotes\"][\"USD\"][\"price\"]\n",
    "\n",
    "# Print the current price of ETH\n",
    "print(f\"The current price of ETH is ${eth_price:0.2f}\")\n"
   ]
  },
  {
   "cell_type": "markdown",
   "metadata": {},
   "source": [
    "### Step 4: Calculate the value, in US dollars, of the current amount of each cryptocurrency and of the entire cryptocurrency wallet."
   ]
  },
  {
   "cell_type": "code",
   "execution_count": 73,
   "metadata": {},
   "outputs": [
    {
     "name": "stdout",
     "output_type": "stream",
     "text": [
      "The current value of BTC holdings is $47782.80\n"
     ]
    }
   ],
   "source": [
    "# Compute the current value of the BTC holding \n",
    "btc_value = btc_coins * btc_price\n",
    "\n",
    "# Print current value of your holding in BTC\n",
    "print(f\"The current value of BTC holdings is ${btc_value:0.2f}\")\n"
   ]
  },
  {
   "cell_type": "code",
   "execution_count": 74,
   "metadata": {},
   "outputs": [
    {
     "name": "stdout",
     "output_type": "stream",
     "text": [
      "The current value of ETH holdings is $15759.87\n"
     ]
    }
   ],
   "source": [
    "# Compute the current value of the ETH holding \n",
    "eth_value = eth_coins * eth_price\n",
    "\n",
    "# Print current value of your holding in ETH\n",
    "print(f\"The current value of ETH holdings is ${eth_value:0.2f}\")\n"
   ]
  },
  {
   "cell_type": "code",
   "execution_count": 75,
   "metadata": {},
   "outputs": [
    {
     "name": "stdout",
     "output_type": "stream",
     "text": [
      "Your cryptocurrency wallet balance: $63542.67\n"
     ]
    }
   ],
   "source": [
    "# Compute the total value of the cryptocurrency wallet\n",
    "# Add the value of the BTC holding to the value of the ETH holding\n",
    "total_crypto_wallet = btc_value + eth_value\n",
    "\n",
    "# Print current cryptocurrency wallet balance\n",
    "print(f\"Your cryptocurrency wallet balance: ${total_crypto_wallet:0.2f}\")\n"
   ]
  },
  {
   "cell_type": "markdown",
   "metadata": {},
   "source": [
    "### Evaluate the Stock and Bond Holdings by Using the Alpaca SDK\n",
    "\n",
    "In this section, you’ll determine the current value of a member’s stock and bond holdings. You’ll make an API call to Alpaca via the Alpaca SDK to get the current closing prices of the SPDR S&P 500 ETF Trust (ticker: SPY) and of the iShares Core US Aggregate Bond ETF (ticker: AGG). For the prototype, assume that the member holds 110 shares of SPY, which represents the stock portion of their portfolio, and 200 shares of AGG, which represents the bond portion. To do all this, complete the following steps:\n",
    "\n",
    "1. In the `Starter_Code` folder, create an environment file (`.env`) to store the values of your Alpaca API key and Alpaca secret key.\n",
    "\n",
    "2. Set the variables for the Alpaca API and secret keys. Using the Alpaca SDK, create the Alpaca `tradeapi.REST` object. In this object, include the parameters for the Alpaca API key, the secret key, and the version number.\n",
    "\n",
    "3. Set the following parameters for the Alpaca API call:\n",
    "\n",
    "    - `tickers`: Use the tickers for the member’s stock and bond holdings.\n",
    "\n",
    "    - `timeframe`: Use a time frame of one day.\n",
    "\n",
    "    - `start_date` and `end_date`: Use the same date for these parameters, and format them with the date of the previous weekday (or `2020-08-07`). This is because you want the one closing price for the most-recent trading day.\n",
    "\n",
    "4. Get the current closing prices for `SPY` and `AGG` by using the Alpaca `get_bars` function. Format the response as a Pandas DataFrame by including the `df` property at the end of the `get_bars` function.\n",
    "\n",
    "5. Navigating the Alpaca response DataFrame, select the `SPY` and `AGG` closing prices, and store them as variables.\n",
    "\n",
    "6. Calculate the value, in US dollars, of the current amount of shares in each of the stock and bond portions of the portfolio, and print the results.\n"
   ]
  },
  {
   "cell_type": "markdown",
   "metadata": {},
   "source": [
    "#### Review the total number of shares held in both (SPY) and (AGG)."
   ]
  },
  {
   "cell_type": "code",
   "execution_count": 76,
   "metadata": {},
   "outputs": [],
   "source": [
    "# Current amount of shares held in both the stock (SPY) and bond (AGG) portion of the portfolio.\n",
    "spy_shares = 110\n",
    "agg_shares = 200\n"
   ]
  },
  {
   "cell_type": "markdown",
   "metadata": {},
   "source": [
    "#### Step 1: In the `Starter_Code` folder, create an environment file (`.env`) to store the values of your Alpaca API key and Alpaca secret key."
   ]
  },
  {
   "cell_type": "markdown",
   "metadata": {},
   "source": [
    "#### Step 2: Set the variables for the Alpaca API and secret keys. Using the Alpaca SDK, create the Alpaca `tradeapi.REST` object. In this object, include the parameters for the Alpaca API key, the secret key, and the version number."
   ]
  },
  {
   "cell_type": "code",
   "execution_count": 77,
   "metadata": {},
   "outputs": [],
   "source": [
    "# Set the variables for the Alpaca API and secret keys\n",
    "alpaca_api_key = os.getenv(\"ALPACA_API_KEY_ENV\")\n",
    "alpaca_secret_key =  os.getenv(\"ALPACA_SECRET_KEY\")\n",
    "\n",
    "# Create the Alpaca tradeapi.REST object\n",
    "alpaca = tradeapi.REST(\n",
    "    alpaca_api_key,\n",
    "    alpaca_secret_key,\n",
    "    api_version = \"v2\"\n",
    ")\n"
   ]
  },
  {
   "cell_type": "markdown",
   "metadata": {},
   "source": [
    "#### Step 3: Set the following parameters for the Alpaca API call:\n",
    "\n",
    "- `tickers`: Use the tickers for the member’s stock and bond holdings.\n",
    "\n",
    "- `timeframe`: Use a time frame of one day.\n",
    "\n",
    "- `start_date` and `end_date`: Use the same date for these parameters, and format them with the date of the previous weekday (or `2020-08-07`). This is because you want the one closing price for the most-recent trading day.\n"
   ]
  },
  {
   "cell_type": "code",
   "execution_count": 78,
   "metadata": {},
   "outputs": [],
   "source": [
    "# Set the tickers for both the bond and stock portion of the portfolio\n",
    "tickers = [\"SPY\", \"AGG\"]\n",
    "\n",
    "# Set timeframe to 1Day\n",
    "timeframe = \"1Day\"\n",
    "\n",
    "# Format current date as ISO format\n",
    "# Set both the start and end date at the date of your prior weekday \n",
    "# This will give you the closing price of the previous trading day\n",
    "# Alternatively you can use a start and end date of 2020-08-07\n",
    "start_date = pd.Timestamp(\"2022-04-20\", tz=\"America/New_York\").isoformat()\n",
    "end_date = pd.Timestamp(\"2022-04-20\", tz=\"America/New_York\").isoformat()\n"
   ]
  },
  {
   "cell_type": "markdown",
   "metadata": {},
   "source": [
    "#### Step 4: Get the current closing prices for `SPY` and `AGG` by using the Alpaca `get_bars` function. Format the response as a Pandas DataFrame by including the `df` property at the end of the `get_bars` function."
   ]
  },
  {
   "cell_type": "code",
   "execution_count": 79,
   "metadata": {},
   "outputs": [
    {
     "data": {
      "text/html": [
       "<div>\n",
       "<style scoped>\n",
       "    .dataframe tbody tr th:only-of-type {\n",
       "        vertical-align: middle;\n",
       "    }\n",
       "\n",
       "    .dataframe tbody tr th {\n",
       "        vertical-align: top;\n",
       "    }\n",
       "\n",
       "    .dataframe thead tr th {\n",
       "        text-align: left;\n",
       "    }\n",
       "</style>\n",
       "<table border=\"1\" class=\"dataframe\">\n",
       "  <thead>\n",
       "    <tr>\n",
       "      <th></th>\n",
       "      <th colspan=\"7\" halign=\"left\">SPY</th>\n",
       "      <th colspan=\"7\" halign=\"left\">AGG</th>\n",
       "    </tr>\n",
       "    <tr>\n",
       "      <th></th>\n",
       "      <th>open</th>\n",
       "      <th>high</th>\n",
       "      <th>low</th>\n",
       "      <th>close</th>\n",
       "      <th>volume</th>\n",
       "      <th>trade_count</th>\n",
       "      <th>vwap</th>\n",
       "      <th>open</th>\n",
       "      <th>high</th>\n",
       "      <th>low</th>\n",
       "      <th>close</th>\n",
       "      <th>volume</th>\n",
       "      <th>trade_count</th>\n",
       "      <th>vwap</th>\n",
       "    </tr>\n",
       "  </thead>\n",
       "  <tbody>\n",
       "    <tr>\n",
       "      <th>2022-04-20</th>\n",
       "      <td>446.95</td>\n",
       "      <td>447.57</td>\n",
       "      <td>443.48</td>\n",
       "      <td>444.71</td>\n",
       "      <td>64737457</td>\n",
       "      <td>591762</td>\n",
       "      <td>445.610168</td>\n",
       "      <td>103.36</td>\n",
       "      <td>103.7356</td>\n",
       "      <td>103.3</td>\n",
       "      <td>103.61</td>\n",
       "      <td>8434303</td>\n",
       "      <td>32866</td>\n",
       "      <td>103.528935</td>\n",
       "    </tr>\n",
       "  </tbody>\n",
       "</table>\n",
       "</div>"
      ],
      "text/plain": [
       "               SPY                                                            \\\n",
       "              open    high     low   close    volume trade_count        vwap   \n",
       "2022-04-20  446.95  447.57  443.48  444.71  64737457      591762  445.610168   \n",
       "\n",
       "               AGG                                                            \n",
       "              open      high    low   close   volume trade_count        vwap  \n",
       "2022-04-20  103.36  103.7356  103.3  103.61  8434303       32866  103.528935  "
      ]
     },
     "execution_count": 79,
     "metadata": {},
     "output_type": "execute_result"
    }
   ],
   "source": [
    "# Use the Alpaca get_bars function to get current closing prices the portfolio\n",
    "# Be sure to set the `df` property after the function to format the response object as a DataFrame\n",
    "current_closing_prices_df = alpaca.get_bars(\n",
    "    tickers,\n",
    "    timeframe,\n",
    "    start = start_date,\n",
    "    end = end_date\n",
    ").df\n",
    "\n",
    "# Reorganize the DataFrame\n",
    "# Separate ticker data\n",
    "current_closing_prices_df.index = current_closing_prices_df.index.date\n",
    "SPY = current_closing_prices_df[current_closing_prices_df[\"symbol\"] == \"SPY\"].drop(columns=\"symbol\")\n",
    "AGG = current_closing_prices_df[current_closing_prices_df[\"symbol\"] == \"AGG\"].drop(columns=\"symbol\")\n",
    "\n",
    "# Concatenate the ticker DataFrames\n",
    "current_closing_prices_df = pd.concat([SPY, AGG], axis=1, keys=(\"SPY\", \"AGG\"))\n",
    "\n",
    "# Review the first 5 rows of the Alpaca DataFrame\n",
    "current_closing_prices_df.head()\n"
   ]
  },
  {
   "cell_type": "markdown",
   "metadata": {},
   "source": [
    "#### Step 5: Navigating the Alpaca response DataFrame, select the `SPY` and `AGG` closing prices, and store them as variables."
   ]
  },
  {
   "cell_type": "code",
   "execution_count": 80,
   "metadata": {},
   "outputs": [
    {
     "name": "stdout",
     "output_type": "stream",
     "text": [
      "The closing price of AGG is $103.61\n"
     ]
    }
   ],
   "source": [
    "# Access the closing price for AGG from the Alpaca DataFrame\n",
    "# Converting the value to a floating point number\n",
    "agg_close_price = float(current_closing_prices_df[\"AGG\"][\"close\"])\n",
    "\n",
    "# Print the AGG closing price\n",
    "print(f\"The closing price of AGG is ${agg_close_price:0.2f}\")\n"
   ]
  },
  {
   "cell_type": "code",
   "execution_count": 81,
   "metadata": {},
   "outputs": [
    {
     "name": "stdout",
     "output_type": "stream",
     "text": [
      "The closing price of SPY is $444.71\n"
     ]
    }
   ],
   "source": [
    "# Access the closing price for SPY from the Alpaca DataFrame\n",
    "# Converting the value to a floating point number\n",
    "spy_close_price = float(current_closing_prices_df[\"SPY\"][\"close\"])\n",
    "\n",
    "# Print the SPY closing price\n",
    "print(f\"The closing price of SPY is ${spy_close_price:0.2f}\")\n"
   ]
  },
  {
   "cell_type": "markdown",
   "metadata": {},
   "source": [
    "#### Step 6: Calculate the value, in US dollars, of the current amount of shares in each of the stock and bond portions of the portfolio, and print the results."
   ]
  },
  {
   "cell_type": "code",
   "execution_count": 82,
   "metadata": {},
   "outputs": [
    {
     "name": "stdout",
     "output_type": "stream",
     "text": [
      "Current value of bond portfolio: $20722.00\n"
     ]
    }
   ],
   "source": [
    "# Calculate the current value of the bond portion of the portfolio\n",
    "agg_value = agg_shares * agg_close_price\n",
    "\n",
    "# Print the current value of the bond portfolio\n",
    "print(f\"Current value of bond portfolio: ${agg_value:0.2f}\")\n"
   ]
  },
  {
   "cell_type": "code",
   "execution_count": 83,
   "metadata": {},
   "outputs": [
    {
     "name": "stdout",
     "output_type": "stream",
     "text": [
      "Current value of stock portfolio: $48918.10\n"
     ]
    }
   ],
   "source": [
    "# Calculate the current value of the stock portion of the portfolio\n",
    "spy_value = spy_shares * spy_close_price\n",
    "\n",
    "# Print the current value of the stock portfolio\n",
    "print(f\"Current value of stock portfolio: ${spy_value:0.2f}\")\n"
   ]
  },
  {
   "cell_type": "code",
   "execution_count": 84,
   "metadata": {},
   "outputs": [
    {
     "name": "stdout",
     "output_type": "stream",
     "text": [
      "Current value of stocks & bonds: $69640.10\n"
     ]
    }
   ],
   "source": [
    "# Calculate the total value of the stock and bond portion of the portfolio\n",
    "total_stocks_bonds = agg_value + spy_value\n",
    "\n",
    "# Print the current balance of the stock and bond portion of the portfolio\n",
    "print(f\"Current value of stocks & bonds: ${total_stocks_bonds:0.2f}\")\n"
   ]
  },
  {
   "cell_type": "code",
   "execution_count": 85,
   "metadata": {},
   "outputs": [
    {
     "name": "stdout",
     "output_type": "stream",
     "text": [
      "Value of total savings portfolio: $133182.77\n"
     ]
    }
   ],
   "source": [
    "# Calculate the total value of the member's entire savings portfolio\n",
    "# Add the value of the cryptocurrency walled to the value of the total stocks and bonds\n",
    "total_portfolio = total_crypto_wallet + total_stocks_bonds\n",
    "\n",
    "# Print current cryptocurrency wallet balance\n",
    "print(f\"Value of total savings portfolio: ${total_portfolio:0.2f}\")\n"
   ]
  },
  {
   "cell_type": "markdown",
   "metadata": {},
   "source": [
    "### Evaluate the Emergency Fund\n",
    "\n",
    "In this section, you’ll use the valuations for the cryptocurrency wallet and for the stock and bond portions of the portfolio to determine if the credit union member has enough savings to build an emergency fund into their financial plan. To do this, complete the following steps:\n",
    "\n",
    "1. Create a Python list named `savings_data` that has two elements. The first element contains the total value of the cryptocurrency wallet. The second element contains the total value of the stock and bond portions of the portfolio.\n",
    "\n",
    "2. Use the `savings_data` list to create a Pandas DataFrame named `savings_df`, and then display this DataFrame. The function to create the DataFrame should take the following three parameters:\n",
    "\n",
    "    - `savings_data`: Use the list that you just created.\n",
    "\n",
    "    - `columns`: Set this parameter equal to a Python list with a single value called `amount`.\n",
    "\n",
    "    - `index`: Set this parameter equal to a Python list with the values of `crypto` and `stock/bond`.\n",
    "\n",
    "3. Use the `savings_df` DataFrame to plot a pie chart that visualizes the composition of the member’s portfolio. The y-axis of the pie chart uses `amount`. Be sure to add a title.\n",
    "\n",
    "4. Using Python, determine if the current portfolio has enough to create an emergency fund as part of the member’s financial plan. Ideally, an emergency fund should equal to three times the member’s monthly income. To do this, implement the following steps:\n",
    "\n",
    "    1. Create a variable named `emergency_fund_value`, and set it equal to three times the value of the member’s `monthly_income` of $12000. (You set this earlier in Part 1).\n",
    "\n",
    "    2. Create a series of three if statements to determine if the member’s total portfolio is large enough to fund the emergency portfolio:\n",
    "\n",
    "        1. If the total portfolio value is greater than the emergency fund value, display a message congratulating the member for having enough money in this fund.\n",
    "\n",
    "        2. Else if the total portfolio value is equal to the emergency fund value, display a message congratulating the member on reaching this important financial goal.\n",
    "\n",
    "        3. Else the total portfolio is less than the emergency fund value, so display a message showing how many dollars away the member is from reaching the goal. (Subtract the total portfolio value from the emergency fund value.)\n"
   ]
  },
  {
   "cell_type": "markdown",
   "metadata": {},
   "source": [
    "#### Step 1: Create a Python list named `savings_data` that has two elements. The first element contains the total value of the cryptocurrency wallet. The second element contains the total value of the stock and bond portions of the portfolio."
   ]
  },
  {
   "cell_type": "code",
   "execution_count": 86,
   "metadata": {},
   "outputs": [
    {
     "data": {
      "text/plain": [
       "[63542.66799999999, 69640.1]"
      ]
     },
     "execution_count": 86,
     "metadata": {},
     "output_type": "execute_result"
    }
   ],
   "source": [
    "# Consolidate financial assets data into a Python list\n",
    "savings_data = [total_crypto_wallet, total_stocks_bonds]\n",
    "\n",
    "# Review the Python list savings_data\n",
    "savings_data\n",
    "    "
   ]
  },
  {
   "cell_type": "markdown",
   "metadata": {},
   "source": [
    "#### Step 2: Use the `savings_data` list to create a Pandas DataFrame named `savings_df`, and then display this DataFrame. The function to create the DataFrame should take the following three parameters:\n",
    "\n",
    "- `savings_data`: Use the list that you just created.\n",
    "\n",
    "- `columns`: Set this parameter equal to a Python list with a single value called `amount`.\n",
    "\n",
    "- `index`: Set this parameter equal to a Python list with the values of `crypto` and `stock/bond`.\n"
   ]
  },
  {
   "cell_type": "code",
   "execution_count": 87,
   "metadata": {},
   "outputs": [
    {
     "data": {
      "text/html": [
       "<div>\n",
       "<style scoped>\n",
       "    .dataframe tbody tr th:only-of-type {\n",
       "        vertical-align: middle;\n",
       "    }\n",
       "\n",
       "    .dataframe tbody tr th {\n",
       "        vertical-align: top;\n",
       "    }\n",
       "\n",
       "    .dataframe thead th {\n",
       "        text-align: right;\n",
       "    }\n",
       "</style>\n",
       "<table border=\"1\" class=\"dataframe\">\n",
       "  <thead>\n",
       "    <tr style=\"text-align: right;\">\n",
       "      <th></th>\n",
       "      <th>amount</th>\n",
       "    </tr>\n",
       "  </thead>\n",
       "  <tbody>\n",
       "    <tr>\n",
       "      <th>cypto</th>\n",
       "      <td>63542.668</td>\n",
       "    </tr>\n",
       "    <tr>\n",
       "      <th>stock/bond</th>\n",
       "      <td>69640.100</td>\n",
       "    </tr>\n",
       "  </tbody>\n",
       "</table>\n",
       "</div>"
      ],
      "text/plain": [
       "               amount\n",
       "cypto       63542.668\n",
       "stock/bond  69640.100"
      ]
     },
     "metadata": {},
     "output_type": "display_data"
    }
   ],
   "source": [
    "# Create a Pandas DataFrame called savings_df \n",
    "savings_df = pd.DataFrame(\n",
    "    savings_data,\n",
    "    columns=[\"amount\"],\n",
    "    index=[\"cypto\", \"stock/bond\"]\n",
    ")\n",
    "\n",
    "# Display the savings_df DataFrame\n",
    "display(savings_df)\n"
   ]
  },
  {
   "cell_type": "markdown",
   "metadata": {},
   "source": [
    "#### Step 3: Use the `savings_df` DataFrame to plot a pie chart that visualizes the composition of the member’s portfolio. The y-axis of the pie chart uses `amount`. Be sure to add a title."
   ]
  },
  {
   "cell_type": "code",
   "execution_count": 88,
   "metadata": {},
   "outputs": [
    {
     "data": {
      "text/plain": [
       "<AxesSubplot:title={'center':'Portfolio Composition - April 20, 2022'}, ylabel='amount'>"
      ]
     },
     "execution_count": 88,
     "metadata": {},
     "output_type": "execute_result"
    },
    {
     "data": {
      "image/png": "[encoded data removed]",
      "text/plain": [
       "<Figure size 432x288 with 1 Axes>"
      ]
     },
     "metadata": {},
     "output_type": "display_data"
    }
   ],
   "source": [
    "# Plot the total value of the member's portfolio (crypto and stock/bond) in a pie chart\n",
    "savings_df.plot.pie(y='amount', title='Portfolio Composition - April 20, 2022')\n"
   ]
  },
  {
   "cell_type": "markdown",
   "metadata": {},
   "source": [
    "#### Step 4: Using Python, determine if the current portfolio has enough to create an emergency fund as part of the member’s financial plan. Ideally, an emergency fund should equal to three times the member’s monthly income. To do this, implement the following steps:\n",
    "\n",
    "Step 1. Create a variable named `emergency_fund_value`, and set it equal to three times the value of the member’s `monthly_income` of 12000. (You set this earlier in Part 1).\n",
    "\n",
    "Step 2. Create a series of three if statements to determine if the member’s total portfolio is large enough to fund the emergency portfolio:\n",
    "\n",
    "* If the total portfolio value is greater than the emergency fund value, display a message congratulating the member for having enough money in this fund.\n",
    "\n",
    "* Else if the total portfolio value is equal to the emergency fund value, display a message congratulating the member on reaching this important financial goal.\n",
    "\n",
    "* Else the total portfolio is less than the emergency fund value, so display a message showing how many dollars away the member is from reaching the goal. (Subtract the total portfolio value from the emergency fund value.)\n"
   ]
  },
  {
   "cell_type": "markdown",
   "metadata": {},
   "source": [
    "##### Step 4-1: Create a variable named `emergency_fund_value`, and set it equal to three times the value of the member’s `monthly_income` of 12000. (You set this earlier in Part 1)."
   ]
  },
  {
   "cell_type": "code",
   "execution_count": 89,
   "metadata": {},
   "outputs": [],
   "source": [
    "# Create a variable named emergency_fund_value\n",
    "emergency_fund_value = 3 * monthly_income\n"
   ]
  },
  {
   "cell_type": "markdown",
   "metadata": {},
   "source": [
    "##### Step 4-2: Create a series of three if statements to determine if the member’s total portfolio is large enough to fund the emergency portfolio:\n",
    "\n",
    "* If the total portfolio value is greater than the emergency fund value, display a message congratulating the member for having enough money in this fund.\n",
    "\n",
    "* Else if the total portfolio value is equal to the emergency fund value, display a message congratulating the member on reaching this important financial goal.\n",
    "\n",
    "* Else the total portfolio is less than the emergency fund value, so display a message showing how many dollars away the member is from reaching the goal. (Subtract the total portfolio value from the emergency fund value.)"
   ]
  },
  {
   "cell_type": "code",
   "execution_count": 90,
   "metadata": {},
   "outputs": [
    {
     "name": "stdout",
     "output_type": "stream",
     "text": [
      "Congratulations! You have more than sufficient emergency fund savings!!!!\n"
     ]
    }
   ],
   "source": [
    "# Evaluate the possibility of creating an emergency fund with 3 conditions:\n",
    "if (total_portfolio > emergency_fund_value):\n",
    "    print(\"Congratulations! You have more than sufficient emergency fund savings!!!!\")\n",
    "elif (total_portfolio == emergency_fund_value):\n",
    "    print(\"Congratulations! You have fully funded your emergency fund!!!! \")\n",
    "else:\n",
    "    print(f\"You need ${(emergency_fund_value - total_portfolio):0.2f} to fully fund your emergency fund\")\n"
   ]
  },
  {
   "cell_type": "markdown",
   "metadata": {},
   "source": [
    "## Part 2: Create a Financial Planner for Retirement"
   ]
  },
  {
   "cell_type": "markdown",
   "metadata": {},
   "source": [
    "### Create the Monte Carlo Simulation\n",
    "\n",
    "In this section, you’ll use the MCForecastTools library to create a Monte Carlo simulation for the member’s savings portfolio. To do this, complete the following steps:\n",
    "\n",
    "1. Make an API call via the Alpaca SDK to get 3 years of historical closing prices for a traditional 60/40 portfolio split: 60% stocks (SPY) and 40% bonds (AGG).\n",
    "\n",
    "2. Run a Monte Carlo simulation of 500 samples and 30 years for the 60/40 portfolio, and then plot the results.The following image shows the overlay line plot resulting from a simulation with these characteristics. However, because a random number generator is used to run each live Monte Carlo simulation, your image will differ slightly from this exact image:\n",
    "\n",
    "![A screenshot depicts the resulting plot.](Images/5-4-monte-carlo-line-plot.png)\n",
    "\n",
    "3. Plot the probability distribution of the Monte Carlo simulation. Plot the probability distribution of the Monte Carlo simulation. The following image shows the histogram plot resulting from a simulation with these characteristics. However, because a random number generator is used to run each live Monte Carlo simulation, your image will differ slightly from this exact image:\n",
    "\n",
    "![A screenshot depicts the histogram plot.](Images/5-4-monte-carlo-histogram.png)\n",
    "\n",
    "4. Generate the summary statistics for the Monte Carlo simulation.\n",
    "\n"
   ]
  },
  {
   "cell_type": "markdown",
   "metadata": {},
   "source": [
    "#### Step 1: Make an API call via the Alpaca SDK to get 3 years of historical closing prices for a traditional 60/40 portfolio split: 60% stocks (SPY) and 40% bonds (AGG)."
   ]
  },
  {
   "cell_type": "code",
   "execution_count": 91,
   "metadata": {},
   "outputs": [],
   "source": [
    "# Set start and end dates of 3 years back from your current date\n",
    "# Alternatively, you can use an end date of 2020-08-07 and work 3 years back from that date \n",
    "start_date = pd.Timestamp(\"2019-04-21\", tz=\"America/New_York\").isoformat()\n",
    "end_date = pd.Timestamp(\"2022-04-21\", tz=\"America/New_York\").isoformat()\n",
    "\n",
    "# Set number of rows to 1000 to retrieve the maximum amount of rows\n",
    "limit_rows=1600"
   ]
  },
  {
   "cell_type": "code",
   "execution_count": 92,
   "metadata": {},
   "outputs": [
    {
     "data": {
      "text/html": [
       "<div>\n",
       "<style scoped>\n",
       "    .dataframe tbody tr th:only-of-type {\n",
       "        vertical-align: middle;\n",
       "    }\n",
       "\n",
       "    .dataframe tbody tr th {\n",
       "        vertical-align: top;\n",
       "    }\n",
       "\n",
       "    .dataframe thead tr th {\n",
       "        text-align: left;\n",
       "    }\n",
       "\n",
       "    .dataframe thead tr:last-of-type th {\n",
       "        text-align: right;\n",
       "    }\n",
       "</style>\n",
       "<table border=\"1\" class=\"dataframe\">\n",
       "  <thead>\n",
       "    <tr>\n",
       "      <th></th>\n",
       "      <th colspan=\"7\" halign=\"left\">SPY</th>\n",
       "      <th colspan=\"7\" halign=\"left\">AGG</th>\n",
       "    </tr>\n",
       "    <tr>\n",
       "      <th></th>\n",
       "      <th>open</th>\n",
       "      <th>high</th>\n",
       "      <th>low</th>\n",
       "      <th>close</th>\n",
       "      <th>volume</th>\n",
       "      <th>trade_count</th>\n",
       "      <th>vwap</th>\n",
       "      <th>open</th>\n",
       "      <th>high</th>\n",
       "      <th>low</th>\n",
       "      <th>close</th>\n",
       "      <th>volume</th>\n",
       "      <th>trade_count</th>\n",
       "      <th>vwap</th>\n",
       "    </tr>\n",
       "    <tr>\n",
       "      <th>timestamp</th>\n",
       "      <th></th>\n",
       "      <th></th>\n",
       "      <th></th>\n",
       "      <th></th>\n",
       "      <th></th>\n",
       "      <th></th>\n",
       "      <th></th>\n",
       "      <th></th>\n",
       "      <th></th>\n",
       "      <th></th>\n",
       "      <th></th>\n",
       "      <th></th>\n",
       "      <th></th>\n",
       "      <th></th>\n",
       "    </tr>\n",
       "  </thead>\n",
       "  <tbody>\n",
       "    <tr>\n",
       "      <th>2019-04-22 04:00:00+00:00</th>\n",
       "      <td>289.17</td>\n",
       "      <td>290.435</td>\n",
       "      <td>289.0700</td>\n",
       "      <td>290.27</td>\n",
       "      <td>40520264</td>\n",
       "      <td>170767</td>\n",
       "      <td>290.002934</td>\n",
       "      <td>108.13</td>\n",
       "      <td>108.16</td>\n",
       "      <td>108.05</td>\n",
       "      <td>108.06</td>\n",
       "      <td>5725616</td>\n",
       "      <td>9161</td>\n",
       "      <td>108.098893</td>\n",
       "    </tr>\n",
       "    <tr>\n",
       "      <th>2019-04-23 04:00:00+00:00</th>\n",
       "      <td>290.68</td>\n",
       "      <td>293.140</td>\n",
       "      <td>290.4200</td>\n",
       "      <td>292.88</td>\n",
       "      <td>52411775</td>\n",
       "      <td>232023</td>\n",
       "      <td>292.102165</td>\n",
       "      <td>108.18</td>\n",
       "      <td>108.28</td>\n",
       "      <td>108.15</td>\n",
       "      <td>108.25</td>\n",
       "      <td>3422712</td>\n",
       "      <td>10779</td>\n",
       "      <td>108.236718</td>\n",
       "    </tr>\n",
       "    <tr>\n",
       "      <th>2019-04-24 04:00:00+00:00</th>\n",
       "      <td>292.76</td>\n",
       "      <td>293.160</td>\n",
       "      <td>292.0700</td>\n",
       "      <td>292.23</td>\n",
       "      <td>50469550</td>\n",
       "      <td>203858</td>\n",
       "      <td>292.580824</td>\n",
       "      <td>108.42</td>\n",
       "      <td>108.53</td>\n",
       "      <td>108.42</td>\n",
       "      <td>108.50</td>\n",
       "      <td>3000163</td>\n",
       "      <td>10192</td>\n",
       "      <td>108.496809</td>\n",
       "    </tr>\n",
       "    <tr>\n",
       "      <th>2019-04-25 04:00:00+00:00</th>\n",
       "      <td>292.12</td>\n",
       "      <td>292.780</td>\n",
       "      <td>290.7300</td>\n",
       "      <td>292.05</td>\n",
       "      <td>57875137</td>\n",
       "      <td>238260</td>\n",
       "      <td>292.051720</td>\n",
       "      <td>108.50</td>\n",
       "      <td>108.55</td>\n",
       "      <td>108.42</td>\n",
       "      <td>108.49</td>\n",
       "      <td>2648150</td>\n",
       "      <td>9121</td>\n",
       "      <td>108.473969</td>\n",
       "    </tr>\n",
       "    <tr>\n",
       "      <th>2019-04-26 04:00:00+00:00</th>\n",
       "      <td>292.12</td>\n",
       "      <td>293.490</td>\n",
       "      <td>291.2401</td>\n",
       "      <td>293.41</td>\n",
       "      <td>51449173</td>\n",
       "      <td>220594</td>\n",
       "      <td>292.642502</td>\n",
       "      <td>108.74</td>\n",
       "      <td>108.75</td>\n",
       "      <td>108.66</td>\n",
       "      <td>108.71</td>\n",
       "      <td>2300074</td>\n",
       "      <td>8664</td>\n",
       "      <td>108.705413</td>\n",
       "    </tr>\n",
       "  </tbody>\n",
       "</table>\n",
       "</div>"
      ],
      "text/plain": [
       "                              SPY                                       \\\n",
       "                             open     high       low   close    volume   \n",
       "timestamp                                                                \n",
       "2019-04-22 04:00:00+00:00  289.17  290.435  289.0700  290.27  40520264   \n",
       "2019-04-23 04:00:00+00:00  290.68  293.140  290.4200  292.88  52411775   \n",
       "2019-04-24 04:00:00+00:00  292.76  293.160  292.0700  292.23  50469550   \n",
       "2019-04-25 04:00:00+00:00  292.12  292.780  290.7300  292.05  57875137   \n",
       "2019-04-26 04:00:00+00:00  292.12  293.490  291.2401  293.41  51449173   \n",
       "\n",
       "                                                      AGG                  \\\n",
       "                          trade_count        vwap    open    high     low   \n",
       "timestamp                                                                   \n",
       "2019-04-22 04:00:00+00:00      170767  290.002934  108.13  108.16  108.05   \n",
       "2019-04-23 04:00:00+00:00      232023  292.102165  108.18  108.28  108.15   \n",
       "2019-04-24 04:00:00+00:00      203858  292.580824  108.42  108.53  108.42   \n",
       "2019-04-25 04:00:00+00:00      238260  292.051720  108.50  108.55  108.42   \n",
       "2019-04-26 04:00:00+00:00      220594  292.642502  108.74  108.75  108.66   \n",
       "\n",
       "                                                                    \n",
       "                            close   volume trade_count        vwap  \n",
       "timestamp                                                           \n",
       "2019-04-22 04:00:00+00:00  108.06  5725616        9161  108.098893  \n",
       "2019-04-23 04:00:00+00:00  108.25  3422712       10779  108.236718  \n",
       "2019-04-24 04:00:00+00:00  108.50  3000163       10192  108.496809  \n",
       "2019-04-25 04:00:00+00:00  108.49  2648150        9121  108.473969  \n",
       "2019-04-26 04:00:00+00:00  108.71  2300074        8664  108.705413  "
      ]
     },
     "metadata": {},
     "output_type": "display_data"
    },
    {
     "data": {
      "text/html": [
       "<div>\n",
       "<style scoped>\n",
       "    .dataframe tbody tr th:only-of-type {\n",
       "        vertical-align: middle;\n",
       "    }\n",
       "\n",
       "    .dataframe tbody tr th {\n",
       "        vertical-align: top;\n",
       "    }\n",
       "\n",
       "    .dataframe thead tr th {\n",
       "        text-align: left;\n",
       "    }\n",
       "\n",
       "    .dataframe thead tr:last-of-type th {\n",
       "        text-align: right;\n",
       "    }\n",
       "</style>\n",
       "<table border=\"1\" class=\"dataframe\">\n",
       "  <thead>\n",
       "    <tr>\n",
       "      <th></th>\n",
       "      <th colspan=\"7\" halign=\"left\">SPY</th>\n",
       "      <th colspan=\"7\" halign=\"left\">AGG</th>\n",
       "    </tr>\n",
       "    <tr>\n",
       "      <th></th>\n",
       "      <th>open</th>\n",
       "      <th>high</th>\n",
       "      <th>low</th>\n",
       "      <th>close</th>\n",
       "      <th>volume</th>\n",
       "      <th>trade_count</th>\n",
       "      <th>vwap</th>\n",
       "      <th>open</th>\n",
       "      <th>high</th>\n",
       "      <th>low</th>\n",
       "      <th>close</th>\n",
       "      <th>volume</th>\n",
       "      <th>trade_count</th>\n",
       "      <th>vwap</th>\n",
       "    </tr>\n",
       "    <tr>\n",
       "      <th>timestamp</th>\n",
       "      <th></th>\n",
       "      <th></th>\n",
       "      <th></th>\n",
       "      <th></th>\n",
       "      <th></th>\n",
       "      <th></th>\n",
       "      <th></th>\n",
       "      <th></th>\n",
       "      <th></th>\n",
       "      <th></th>\n",
       "      <th></th>\n",
       "      <th></th>\n",
       "      <th></th>\n",
       "      <th></th>\n",
       "    </tr>\n",
       "  </thead>\n",
       "  <tbody>\n",
       "    <tr>\n",
       "      <th>2022-04-14 04:00:00+00:00</th>\n",
       "      <td>443.44</td>\n",
       "      <td>444.7301</td>\n",
       "      <td>437.68</td>\n",
       "      <td>437.79</td>\n",
       "      <td>98667135</td>\n",
       "      <td>703727</td>\n",
       "      <td>440.305786</td>\n",
       "      <td>104.73</td>\n",
       "      <td>104.7400</td>\n",
       "      <td>103.930</td>\n",
       "      <td>103.97</td>\n",
       "      <td>8505987</td>\n",
       "      <td>30443</td>\n",
       "      <td>104.171733</td>\n",
       "    </tr>\n",
       "    <tr>\n",
       "      <th>2022-04-18 04:00:00+00:00</th>\n",
       "      <td>436.73</td>\n",
       "      <td>439.7500</td>\n",
       "      <td>435.61</td>\n",
       "      <td>437.97</td>\n",
       "      <td>65814949</td>\n",
       "      <td>573478</td>\n",
       "      <td>437.862483</td>\n",
       "      <td>103.97</td>\n",
       "      <td>104.0150</td>\n",
       "      <td>103.610</td>\n",
       "      <td>103.65</td>\n",
       "      <td>8630794</td>\n",
       "      <td>35583</td>\n",
       "      <td>103.732544</td>\n",
       "    </tr>\n",
       "    <tr>\n",
       "      <th>2022-04-19 04:00:00+00:00</th>\n",
       "      <td>437.87</td>\n",
       "      <td>445.8000</td>\n",
       "      <td>437.68</td>\n",
       "      <td>445.04</td>\n",
       "      <td>77678099</td>\n",
       "      <td>597840</td>\n",
       "      <td>443.072191</td>\n",
       "      <td>103.26</td>\n",
       "      <td>103.4264</td>\n",
       "      <td>102.974</td>\n",
       "      <td>103.02</td>\n",
       "      <td>7845969</td>\n",
       "      <td>32656</td>\n",
       "      <td>103.193615</td>\n",
       "    </tr>\n",
       "    <tr>\n",
       "      <th>2022-04-20 04:00:00+00:00</th>\n",
       "      <td>446.95</td>\n",
       "      <td>447.5700</td>\n",
       "      <td>443.48</td>\n",
       "      <td>444.71</td>\n",
       "      <td>64737457</td>\n",
       "      <td>591762</td>\n",
       "      <td>445.610168</td>\n",
       "      <td>103.36</td>\n",
       "      <td>103.7356</td>\n",
       "      <td>103.300</td>\n",
       "      <td>103.61</td>\n",
       "      <td>8434303</td>\n",
       "      <td>32866</td>\n",
       "      <td>103.528935</td>\n",
       "    </tr>\n",
       "    <tr>\n",
       "      <th>2022-04-21 04:00:00+00:00</th>\n",
       "      <td>448.58</td>\n",
       "      <td>450.0100</td>\n",
       "      <td>437.10</td>\n",
       "      <td>438.06</td>\n",
       "      <td>85097110</td>\n",
       "      <td>719682</td>\n",
       "      <td>442.772969</td>\n",
       "      <td>103.44</td>\n",
       "      <td>103.4700</td>\n",
       "      <td>102.790</td>\n",
       "      <td>103.04</td>\n",
       "      <td>11393860</td>\n",
       "      <td>35595</td>\n",
       "      <td>103.047589</td>\n",
       "    </tr>\n",
       "  </tbody>\n",
       "</table>\n",
       "</div>"
      ],
      "text/plain": [
       "                              SPY                                      \\\n",
       "                             open      high     low   close    volume   \n",
       "timestamp                                                               \n",
       "2022-04-14 04:00:00+00:00  443.44  444.7301  437.68  437.79  98667135   \n",
       "2022-04-18 04:00:00+00:00  436.73  439.7500  435.61  437.97  65814949   \n",
       "2022-04-19 04:00:00+00:00  437.87  445.8000  437.68  445.04  77678099   \n",
       "2022-04-20 04:00:00+00:00  446.95  447.5700  443.48  444.71  64737457   \n",
       "2022-04-21 04:00:00+00:00  448.58  450.0100  437.10  438.06  85097110   \n",
       "\n",
       "                                                      AGG                     \\\n",
       "                          trade_count        vwap    open      high      low   \n",
       "timestamp                                                                      \n",
       "2022-04-14 04:00:00+00:00      703727  440.305786  104.73  104.7400  103.930   \n",
       "2022-04-18 04:00:00+00:00      573478  437.862483  103.97  104.0150  103.610   \n",
       "2022-04-19 04:00:00+00:00      597840  443.072191  103.26  103.4264  102.974   \n",
       "2022-04-20 04:00:00+00:00      591762  445.610168  103.36  103.7356  103.300   \n",
       "2022-04-21 04:00:00+00:00      719682  442.772969  103.44  103.4700  102.790   \n",
       "\n",
       "                                                                     \n",
       "                            close    volume trade_count        vwap  \n",
       "timestamp                                                            \n",
       "2022-04-14 04:00:00+00:00  103.97   8505987       30443  104.171733  \n",
       "2022-04-18 04:00:00+00:00  103.65   8630794       35583  103.732544  \n",
       "2022-04-19 04:00:00+00:00  103.02   7845969       32656  103.193615  \n",
       "2022-04-20 04:00:00+00:00  103.61   8434303       32866  103.528935  \n",
       "2022-04-21 04:00:00+00:00  103.04  11393860       35595  103.047589  "
      ]
     },
     "metadata": {},
     "output_type": "display_data"
    }
   ],
   "source": [
    "# Use the Alpaca get_bars function to make the API call to get the 3 years worth of pricing data\n",
    "# The tickers and timeframe parameters should have been set in Part 1 of this activity \n",
    "# The start and end dates should be updated with the information set above\n",
    "# Remember to add the df property to the end of the call so the response is returned as a DataFrame\n",
    "pricing_data_3_yrs = alpaca.get_bars(\n",
    "    tickers,\n",
    "    timeframe,\n",
    "    start=start_date,\n",
    "    end=end_date,\n",
    "    limit=limit_rows\n",
    ").df\n",
    "\n",
    "# Reorganize the DataFrame\n",
    "# Separate ticker data\n",
    "SPY = pricing_data_3_yrs[pricing_data_3_yrs[\"symbol\"] == \"SPY\"].drop(\"symbol\", axis=1)\n",
    "AGG = pricing_data_3_yrs[pricing_data_3_yrs[\"symbol\"] == \"AGG\"].drop(\"symbol\", axis=1)\n",
    "\n",
    "# Concatenate the ticker DataFrames\n",
    "pricing_data_3_yrs = pd.concat([SPY, AGG], axis=1, keys=[\"SPY\", \"AGG\"])\n",
    "\n",
    "# Display both the first and last five rows of the DataFrame\n",
    "display(pricing_data_3_yrs.head())\n",
    "display(pricing_data_3_yrs.tail())\n"
   ]
  },
  {
   "cell_type": "markdown",
   "metadata": {},
   "source": [
    "#### Step 2: Run a Monte Carlo simulation of 500 samples and 30 years for the 60/40 portfolio, and then plot the results."
   ]
  },
  {
   "cell_type": "code",
   "execution_count": 94,
   "metadata": {},
   "outputs": [
    {
     "data": {
      "text/html": [
       "<div>\n",
       "<style scoped>\n",
       "    .dataframe tbody tr th:only-of-type {\n",
       "        vertical-align: middle;\n",
       "    }\n",
       "\n",
       "    .dataframe tbody tr th {\n",
       "        vertical-align: top;\n",
       "    }\n",
       "\n",
       "    .dataframe thead tr th {\n",
       "        text-align: left;\n",
       "    }\n",
       "\n",
       "    .dataframe thead tr:last-of-type th {\n",
       "        text-align: right;\n",
       "    }\n",
       "</style>\n",
       "<table border=\"1\" class=\"dataframe\">\n",
       "  <thead>\n",
       "    <tr>\n",
       "      <th></th>\n",
       "      <th colspan=\"8\" halign=\"left\">SPY</th>\n",
       "      <th colspan=\"8\" halign=\"left\">AGG</th>\n",
       "    </tr>\n",
       "    <tr>\n",
       "      <th></th>\n",
       "      <th>open</th>\n",
       "      <th>high</th>\n",
       "      <th>low</th>\n",
       "      <th>close</th>\n",
       "      <th>volume</th>\n",
       "      <th>trade_count</th>\n",
       "      <th>vwap</th>\n",
       "      <th>daily_return</th>\n",
       "      <th>open</th>\n",
       "      <th>high</th>\n",
       "      <th>low</th>\n",
       "      <th>close</th>\n",
       "      <th>volume</th>\n",
       "      <th>trade_count</th>\n",
       "      <th>vwap</th>\n",
       "      <th>daily_return</th>\n",
       "    </tr>\n",
       "    <tr>\n",
       "      <th>timestamp</th>\n",
       "      <th></th>\n",
       "      <th></th>\n",
       "      <th></th>\n",
       "      <th></th>\n",
       "      <th></th>\n",
       "      <th></th>\n",
       "      <th></th>\n",
       "      <th></th>\n",
       "      <th></th>\n",
       "      <th></th>\n",
       "      <th></th>\n",
       "      <th></th>\n",
       "      <th></th>\n",
       "      <th></th>\n",
       "      <th></th>\n",
       "      <th></th>\n",
       "    </tr>\n",
       "  </thead>\n",
       "  <tbody>\n",
       "    <tr>\n",
       "      <th>2019-04-22 04:00:00+00:00</th>\n",
       "      <td>289.17</td>\n",
       "      <td>290.435</td>\n",
       "      <td>289.0700</td>\n",
       "      <td>290.27</td>\n",
       "      <td>40520264</td>\n",
       "      <td>170767</td>\n",
       "      <td>290.002934</td>\n",
       "      <td>NaN</td>\n",
       "      <td>108.13</td>\n",
       "      <td>108.16</td>\n",
       "      <td>108.05</td>\n",
       "      <td>108.06</td>\n",
       "      <td>5725616</td>\n",
       "      <td>9161</td>\n",
       "      <td>108.098893</td>\n",
       "      <td>NaN</td>\n",
       "    </tr>\n",
       "    <tr>\n",
       "      <th>2019-04-23 04:00:00+00:00</th>\n",
       "      <td>290.68</td>\n",
       "      <td>293.140</td>\n",
       "      <td>290.4200</td>\n",
       "      <td>292.88</td>\n",
       "      <td>52411775</td>\n",
       "      <td>232023</td>\n",
       "      <td>292.102165</td>\n",
       "      <td>0.008992</td>\n",
       "      <td>108.18</td>\n",
       "      <td>108.28</td>\n",
       "      <td>108.15</td>\n",
       "      <td>108.25</td>\n",
       "      <td>3422712</td>\n",
       "      <td>10779</td>\n",
       "      <td>108.236718</td>\n",
       "      <td>0.001758</td>\n",
       "    </tr>\n",
       "    <tr>\n",
       "      <th>2019-04-24 04:00:00+00:00</th>\n",
       "      <td>292.76</td>\n",
       "      <td>293.160</td>\n",
       "      <td>292.0700</td>\n",
       "      <td>292.23</td>\n",
       "      <td>50469550</td>\n",
       "      <td>203858</td>\n",
       "      <td>292.580824</td>\n",
       "      <td>-0.002219</td>\n",
       "      <td>108.42</td>\n",
       "      <td>108.53</td>\n",
       "      <td>108.42</td>\n",
       "      <td>108.50</td>\n",
       "      <td>3000163</td>\n",
       "      <td>10192</td>\n",
       "      <td>108.496809</td>\n",
       "      <td>0.002309</td>\n",
       "    </tr>\n",
       "    <tr>\n",
       "      <th>2019-04-25 04:00:00+00:00</th>\n",
       "      <td>292.12</td>\n",
       "      <td>292.780</td>\n",
       "      <td>290.7300</td>\n",
       "      <td>292.05</td>\n",
       "      <td>57875137</td>\n",
       "      <td>238260</td>\n",
       "      <td>292.051720</td>\n",
       "      <td>-0.000616</td>\n",
       "      <td>108.50</td>\n",
       "      <td>108.55</td>\n",
       "      <td>108.42</td>\n",
       "      <td>108.49</td>\n",
       "      <td>2648150</td>\n",
       "      <td>9121</td>\n",
       "      <td>108.473969</td>\n",
       "      <td>-0.000092</td>\n",
       "    </tr>\n",
       "    <tr>\n",
       "      <th>2019-04-26 04:00:00+00:00</th>\n",
       "      <td>292.12</td>\n",
       "      <td>293.490</td>\n",
       "      <td>291.2401</td>\n",
       "      <td>293.41</td>\n",
       "      <td>51449173</td>\n",
       "      <td>220594</td>\n",
       "      <td>292.642502</td>\n",
       "      <td>0.004657</td>\n",
       "      <td>108.74</td>\n",
       "      <td>108.75</td>\n",
       "      <td>108.66</td>\n",
       "      <td>108.71</td>\n",
       "      <td>2300074</td>\n",
       "      <td>8664</td>\n",
       "      <td>108.705413</td>\n",
       "      <td>0.002028</td>\n",
       "    </tr>\n",
       "  </tbody>\n",
       "</table>\n",
       "</div>"
      ],
      "text/plain": [
       "                              SPY                                       \\\n",
       "                             open     high       low   close    volume   \n",
       "timestamp                                                                \n",
       "2019-04-22 04:00:00+00:00  289.17  290.435  289.0700  290.27  40520264   \n",
       "2019-04-23 04:00:00+00:00  290.68  293.140  290.4200  292.88  52411775   \n",
       "2019-04-24 04:00:00+00:00  292.76  293.160  292.0700  292.23  50469550   \n",
       "2019-04-25 04:00:00+00:00  292.12  292.780  290.7300  292.05  57875137   \n",
       "2019-04-26 04:00:00+00:00  292.12  293.490  291.2401  293.41  51449173   \n",
       "\n",
       "                                                                   AGG  \\\n",
       "                          trade_count        vwap daily_return    open   \n",
       "timestamp                                                                \n",
       "2019-04-22 04:00:00+00:00      170767  290.002934          NaN  108.13   \n",
       "2019-04-23 04:00:00+00:00      232023  292.102165     0.008992  108.18   \n",
       "2019-04-24 04:00:00+00:00      203858  292.580824    -0.002219  108.42   \n",
       "2019-04-25 04:00:00+00:00      238260  292.051720    -0.000616  108.50   \n",
       "2019-04-26 04:00:00+00:00      220594  292.642502     0.004657  108.74   \n",
       "\n",
       "                                                                        \\\n",
       "                             high     low   close   volume trade_count   \n",
       "timestamp                                                                \n",
       "2019-04-22 04:00:00+00:00  108.16  108.05  108.06  5725616        9161   \n",
       "2019-04-23 04:00:00+00:00  108.28  108.15  108.25  3422712       10779   \n",
       "2019-04-24 04:00:00+00:00  108.53  108.42  108.50  3000163       10192   \n",
       "2019-04-25 04:00:00+00:00  108.55  108.42  108.49  2648150        9121   \n",
       "2019-04-26 04:00:00+00:00  108.75  108.66  108.71  2300074        8664   \n",
       "\n",
       "                                                    \n",
       "                                 vwap daily_return  \n",
       "timestamp                                           \n",
       "2019-04-22 04:00:00+00:00  108.098893          NaN  \n",
       "2019-04-23 04:00:00+00:00  108.236718     0.001758  \n",
       "2019-04-24 04:00:00+00:00  108.496809     0.002309  \n",
       "2019-04-25 04:00:00+00:00  108.473969    -0.000092  \n",
       "2019-04-26 04:00:00+00:00  108.705413     0.002028  "
      ]
     },
     "execution_count": 94,
     "metadata": {},
     "output_type": "execute_result"
    }
   ],
   "source": [
    "# Configure the Monte Carlo simulation to forecast 30 years cumulative returns\n",
    "# The weights should be split 40% to AGG and 60% to SPY.\n",
    "# Run 500 samples.\n",
    "MC_thirty_year = MCSimulation(\n",
    "    portfolio_data = pricing_data_3_yrs,\n",
    "    weights = [.60,.40],\n",
    "    num_simulation = 500,\n",
    "    num_trading_days = 252*30\n",
    ")\n",
    "\n",
    "# Review the simulation input data\n",
    "MC_thirty_year.portfolio_data.head()\n"
   ]
  },
  {
   "cell_type": "code",
   "execution_count": 95,
   "metadata": {},
   "outputs": [
    {
     "name": "stdout",
     "output_type": "stream",
     "text": [
      "Running Monte Carlo simulation number 0.\n",
      "Running Monte Carlo simulation number 10.\n",
      "Running Monte Carlo simulation number 20.\n",
      "Running Monte Carlo simulation number 30.\n",
      "Running Monte Carlo simulation number 40.\n",
      "Running Monte Carlo simulation number 50.\n",
      "Running Monte Carlo simulation number 60.\n",
      "Running Monte Carlo simulation number 70.\n",
      "Running Monte Carlo simulation number 80.\n",
      "Running Monte Carlo simulation number 90.\n",
      "Running Monte Carlo simulation number 100.\n"
     ]
    },
    {
     "name": "stderr",
     "output_type": "stream",
     "text": [
      "/Users/dadoo/Desktop/Fintech Bootcamp/Module_5/Challenge_5/MCForecastTools.py:117: PerformanceWarning: DataFrame is highly fragmented.  This is usually the result of calling `frame.insert` many times, which has poor performance.  Consider joining all columns at once using pd.concat(axis=1) instead.  To get a de-fragmented frame, use `newframe = frame.copy()`\n",
      "  portfolio_cumulative_returns[n] = (1 + sim_df.fillna(0)).cumprod()\n"
     ]
    },
    {
     "name": "stdout",
     "output_type": "stream",
     "text": [
      "Running Monte Carlo simulation number 110.\n",
      "Running Monte Carlo simulation number 120.\n",
      "Running Monte Carlo simulation number 130.\n",
      "Running Monte Carlo simulation number 140.\n",
      "Running Monte Carlo simulation number 150.\n",
      "Running Monte Carlo simulation number 160.\n",
      "Running Monte Carlo simulation number 170.\n",
      "Running Monte Carlo simulation number 180.\n",
      "Running Monte Carlo simulation number 190.\n",
      "Running Monte Carlo simulation number 200.\n",
      "Running Monte Carlo simulation number 210.\n",
      "Running Monte Carlo simulation number 220.\n",
      "Running Monte Carlo simulation number 230.\n",
      "Running Monte Carlo simulation number 240.\n",
      "Running Monte Carlo simulation number 250.\n",
      "Running Monte Carlo simulation number 260.\n",
      "Running Monte Carlo simulation number 270.\n",
      "Running Monte Carlo simulation number 280.\n",
      "Running Monte Carlo simulation number 290.\n",
      "Running Monte Carlo simulation number 300.\n",
      "Running Monte Carlo simulation number 310.\n",
      "Running Monte Carlo simulation number 320.\n",
      "Running Monte Carlo simulation number 330.\n",
      "Running Monte Carlo simulation number 340.\n",
      "Running Monte Carlo simulation number 350.\n",
      "Running Monte Carlo simulation number 360.\n",
      "Running Monte Carlo simulation number 370.\n",
      "Running Monte Carlo simulation number 380.\n",
      "Running Monte Carlo simulation number 390.\n",
      "Running Monte Carlo simulation number 400.\n",
      "Running Monte Carlo simulation number 410.\n",
      "Running Monte Carlo simulation number 420.\n",
      "Running Monte Carlo simulation number 430.\n",
      "Running Monte Carlo simulation number 440.\n",
      "Running Monte Carlo simulation number 450.\n",
      "Running Monte Carlo simulation number 460.\n",
      "Running Monte Carlo simulation number 470.\n",
      "Running Monte Carlo simulation number 480.\n",
      "Running Monte Carlo simulation number 490.\n"
     ]
    },
    {
     "data": {
      "text/html": [
       "<div>\n",
       "<style scoped>\n",
       "    .dataframe tbody tr th:only-of-type {\n",
       "        vertical-align: middle;\n",
       "    }\n",
       "\n",
       "    .dataframe tbody tr th {\n",
       "        vertical-align: top;\n",
       "    }\n",
       "\n",
       "    .dataframe thead th {\n",
       "        text-align: right;\n",
       "    }\n",
       "</style>\n",
       "<table border=\"1\" class=\"dataframe\">\n",
       "  <thead>\n",
       "    <tr style=\"text-align: right;\">\n",
       "      <th></th>\n",
       "      <th>0</th>\n",
       "      <th>1</th>\n",
       "      <th>2</th>\n",
       "      <th>3</th>\n",
       "      <th>4</th>\n",
       "      <th>5</th>\n",
       "      <th>6</th>\n",
       "      <th>7</th>\n",
       "      <th>8</th>\n",
       "      <th>9</th>\n",
       "      <th>...</th>\n",
       "      <th>490</th>\n",
       "      <th>491</th>\n",
       "      <th>492</th>\n",
       "      <th>493</th>\n",
       "      <th>494</th>\n",
       "      <th>495</th>\n",
       "      <th>496</th>\n",
       "      <th>497</th>\n",
       "      <th>498</th>\n",
       "      <th>499</th>\n",
       "    </tr>\n",
       "  </thead>\n",
       "  <tbody>\n",
       "    <tr>\n",
       "      <th>0</th>\n",
       "      <td>1.000000</td>\n",
       "      <td>1.000000</td>\n",
       "      <td>1.000000</td>\n",
       "      <td>1.000000</td>\n",
       "      <td>1.000000</td>\n",
       "      <td>1.000000</td>\n",
       "      <td>1.000000</td>\n",
       "      <td>1.000000</td>\n",
       "      <td>1.000000</td>\n",
       "      <td>1.000000</td>\n",
       "      <td>...</td>\n",
       "      <td>1.000000</td>\n",
       "      <td>1.000000</td>\n",
       "      <td>1.000000</td>\n",
       "      <td>1.000000</td>\n",
       "      <td>1.000000</td>\n",
       "      <td>1.000000</td>\n",
       "      <td>1.000000</td>\n",
       "      <td>1.000000</td>\n",
       "      <td>1.000000</td>\n",
       "      <td>1.000000</td>\n",
       "    </tr>\n",
       "    <tr>\n",
       "      <th>1</th>\n",
       "      <td>0.993467</td>\n",
       "      <td>0.992692</td>\n",
       "      <td>0.998875</td>\n",
       "      <td>1.004562</td>\n",
       "      <td>0.991897</td>\n",
       "      <td>0.992018</td>\n",
       "      <td>1.017609</td>\n",
       "      <td>0.993587</td>\n",
       "      <td>1.002565</td>\n",
       "      <td>0.986129</td>\n",
       "      <td>...</td>\n",
       "      <td>1.021396</td>\n",
       "      <td>0.997779</td>\n",
       "      <td>1.004224</td>\n",
       "      <td>1.004411</td>\n",
       "      <td>0.994988</td>\n",
       "      <td>0.993232</td>\n",
       "      <td>0.999286</td>\n",
       "      <td>0.987301</td>\n",
       "      <td>1.001936</td>\n",
       "      <td>0.989157</td>\n",
       "    </tr>\n",
       "    <tr>\n",
       "      <th>2</th>\n",
       "      <td>0.989447</td>\n",
       "      <td>0.978785</td>\n",
       "      <td>0.998388</td>\n",
       "      <td>1.015256</td>\n",
       "      <td>0.980731</td>\n",
       "      <td>0.996851</td>\n",
       "      <td>1.018301</td>\n",
       "      <td>0.990348</td>\n",
       "      <td>1.010027</td>\n",
       "      <td>0.984613</td>\n",
       "      <td>...</td>\n",
       "      <td>1.022430</td>\n",
       "      <td>0.988852</td>\n",
       "      <td>1.000288</td>\n",
       "      <td>0.995404</td>\n",
       "      <td>0.991443</td>\n",
       "      <td>0.995510</td>\n",
       "      <td>0.998896</td>\n",
       "      <td>0.989258</td>\n",
       "      <td>1.000198</td>\n",
       "      <td>0.987300</td>\n",
       "    </tr>\n",
       "    <tr>\n",
       "      <th>3</th>\n",
       "      <td>0.990595</td>\n",
       "      <td>0.967950</td>\n",
       "      <td>1.001582</td>\n",
       "      <td>1.017140</td>\n",
       "      <td>0.979089</td>\n",
       "      <td>0.990848</td>\n",
       "      <td>1.039840</td>\n",
       "      <td>0.993616</td>\n",
       "      <td>1.014166</td>\n",
       "      <td>0.991229</td>\n",
       "      <td>...</td>\n",
       "      <td>1.029466</td>\n",
       "      <td>0.981876</td>\n",
       "      <td>1.015332</td>\n",
       "      <td>1.001979</td>\n",
       "      <td>0.983979</td>\n",
       "      <td>0.995120</td>\n",
       "      <td>1.002674</td>\n",
       "      <td>0.981745</td>\n",
       "      <td>1.000181</td>\n",
       "      <td>0.996587</td>\n",
       "    </tr>\n",
       "    <tr>\n",
       "      <th>4</th>\n",
       "      <td>0.984308</td>\n",
       "      <td>0.981741</td>\n",
       "      <td>0.995805</td>\n",
       "      <td>1.012013</td>\n",
       "      <td>0.996785</td>\n",
       "      <td>0.991059</td>\n",
       "      <td>1.047012</td>\n",
       "      <td>0.997489</td>\n",
       "      <td>1.016762</td>\n",
       "      <td>0.998544</td>\n",
       "      <td>...</td>\n",
       "      <td>1.017899</td>\n",
       "      <td>0.976042</td>\n",
       "      <td>1.015641</td>\n",
       "      <td>1.013422</td>\n",
       "      <td>0.977437</td>\n",
       "      <td>0.980733</td>\n",
       "      <td>1.007107</td>\n",
       "      <td>0.987583</td>\n",
       "      <td>0.992382</td>\n",
       "      <td>0.991004</td>\n",
       "    </tr>\n",
       "    <tr>\n",
       "      <th>...</th>\n",
       "      <td>...</td>\n",
       "      <td>...</td>\n",
       "      <td>...</td>\n",
       "      <td>...</td>\n",
       "      <td>...</td>\n",
       "      <td>...</td>\n",
       "      <td>...</td>\n",
       "      <td>...</td>\n",
       "      <td>...</td>\n",
       "      <td>...</td>\n",
       "      <td>...</td>\n",
       "      <td>...</td>\n",
       "      <td>...</td>\n",
       "      <td>...</td>\n",
       "      <td>...</td>\n",
       "      <td>...</td>\n",
       "      <td>...</td>\n",
       "      <td>...</td>\n",
       "      <td>...</td>\n",
       "      <td>...</td>\n",
       "      <td>...</td>\n",
       "    </tr>\n",
       "    <tr>\n",
       "      <th>7556</th>\n",
       "      <td>23.056388</td>\n",
       "      <td>14.165679</td>\n",
       "      <td>20.891674</td>\n",
       "      <td>37.761494</td>\n",
       "      <td>3.455135</td>\n",
       "      <td>7.981668</td>\n",
       "      <td>21.214298</td>\n",
       "      <td>7.750279</td>\n",
       "      <td>6.303279</td>\n",
       "      <td>28.501603</td>\n",
       "      <td>...</td>\n",
       "      <td>20.305586</td>\n",
       "      <td>10.567923</td>\n",
       "      <td>45.004800</td>\n",
       "      <td>4.710249</td>\n",
       "      <td>6.534767</td>\n",
       "      <td>5.087022</td>\n",
       "      <td>14.992308</td>\n",
       "      <td>11.747409</td>\n",
       "      <td>9.836952</td>\n",
       "      <td>7.998356</td>\n",
       "    </tr>\n",
       "    <tr>\n",
       "      <th>7557</th>\n",
       "      <td>23.108982</td>\n",
       "      <td>14.274355</td>\n",
       "      <td>20.659560</td>\n",
       "      <td>37.786056</td>\n",
       "      <td>3.420657</td>\n",
       "      <td>7.973172</td>\n",
       "      <td>21.292610</td>\n",
       "      <td>7.675489</td>\n",
       "      <td>6.335426</td>\n",
       "      <td>28.247321</td>\n",
       "      <td>...</td>\n",
       "      <td>20.307537</td>\n",
       "      <td>10.484931</td>\n",
       "      <td>45.115666</td>\n",
       "      <td>4.750943</td>\n",
       "      <td>6.562818</td>\n",
       "      <td>5.100884</td>\n",
       "      <td>15.194419</td>\n",
       "      <td>11.788627</td>\n",
       "      <td>9.811940</td>\n",
       "      <td>7.955214</td>\n",
       "    </tr>\n",
       "    <tr>\n",
       "      <th>7558</th>\n",
       "      <td>22.883093</td>\n",
       "      <td>14.639788</td>\n",
       "      <td>20.644925</td>\n",
       "      <td>38.106488</td>\n",
       "      <td>3.428837</td>\n",
       "      <td>8.021699</td>\n",
       "      <td>21.348914</td>\n",
       "      <td>7.706081</td>\n",
       "      <td>6.285865</td>\n",
       "      <td>28.623169</td>\n",
       "      <td>...</td>\n",
       "      <td>20.105429</td>\n",
       "      <td>10.444541</td>\n",
       "      <td>45.106140</td>\n",
       "      <td>4.695206</td>\n",
       "      <td>6.554079</td>\n",
       "      <td>5.151882</td>\n",
       "      <td>15.125129</td>\n",
       "      <td>11.820981</td>\n",
       "      <td>9.852526</td>\n",
       "      <td>8.019617</td>\n",
       "    </tr>\n",
       "    <tr>\n",
       "      <th>7559</th>\n",
       "      <td>22.741081</td>\n",
       "      <td>14.856632</td>\n",
       "      <td>20.344599</td>\n",
       "      <td>37.623814</td>\n",
       "      <td>3.413881</td>\n",
       "      <td>7.920201</td>\n",
       "      <td>21.076289</td>\n",
       "      <td>7.744749</td>\n",
       "      <td>6.400407</td>\n",
       "      <td>28.690589</td>\n",
       "      <td>...</td>\n",
       "      <td>20.452161</td>\n",
       "      <td>10.417944</td>\n",
       "      <td>44.850104</td>\n",
       "      <td>4.757398</td>\n",
       "      <td>6.566549</td>\n",
       "      <td>5.159674</td>\n",
       "      <td>15.323967</td>\n",
       "      <td>11.843713</td>\n",
       "      <td>9.843076</td>\n",
       "      <td>7.890590</td>\n",
       "    </tr>\n",
       "    <tr>\n",
       "      <th>7560</th>\n",
       "      <td>22.808545</td>\n",
       "      <td>14.938107</td>\n",
       "      <td>20.171344</td>\n",
       "      <td>37.678188</td>\n",
       "      <td>3.488670</td>\n",
       "      <td>7.943352</td>\n",
       "      <td>21.305881</td>\n",
       "      <td>7.657927</td>\n",
       "      <td>6.282068</td>\n",
       "      <td>28.340825</td>\n",
       "      <td>...</td>\n",
       "      <td>20.235367</td>\n",
       "      <td>10.279652</td>\n",
       "      <td>44.993446</td>\n",
       "      <td>4.839462</td>\n",
       "      <td>6.514096</td>\n",
       "      <td>5.100416</td>\n",
       "      <td>15.363822</td>\n",
       "      <td>11.939603</td>\n",
       "      <td>9.807617</td>\n",
       "      <td>7.940234</td>\n",
       "    </tr>\n",
       "  </tbody>\n",
       "</table>\n",
       "<p>7561 rows × 500 columns</p>\n",
       "</div>"
      ],
      "text/plain": [
       "            0          1          2          3         4         5    \\\n",
       "0      1.000000   1.000000   1.000000   1.000000  1.000000  1.000000   \n",
       "1      0.993467   0.992692   0.998875   1.004562  0.991897  0.992018   \n",
       "2      0.989447   0.978785   0.998388   1.015256  0.980731  0.996851   \n",
       "3      0.990595   0.967950   1.001582   1.017140  0.979089  0.990848   \n",
       "4      0.984308   0.981741   0.995805   1.012013  0.996785  0.991059   \n",
       "...         ...        ...        ...        ...       ...       ...   \n",
       "7556  23.056388  14.165679  20.891674  37.761494  3.455135  7.981668   \n",
       "7557  23.108982  14.274355  20.659560  37.786056  3.420657  7.973172   \n",
       "7558  22.883093  14.639788  20.644925  38.106488  3.428837  8.021699   \n",
       "7559  22.741081  14.856632  20.344599  37.623814  3.413881  7.920201   \n",
       "7560  22.808545  14.938107  20.171344  37.678188  3.488670  7.943352   \n",
       "\n",
       "            6         7         8          9    ...        490        491  \\\n",
       "0      1.000000  1.000000  1.000000   1.000000  ...   1.000000   1.000000   \n",
       "1      1.017609  0.993587  1.002565   0.986129  ...   1.021396   0.997779   \n",
       "2      1.018301  0.990348  1.010027   0.984613  ...   1.022430   0.988852   \n",
       "3      1.039840  0.993616  1.014166   0.991229  ...   1.029466   0.981876   \n",
       "4      1.047012  0.997489  1.016762   0.998544  ...   1.017899   0.976042   \n",
       "...         ...       ...       ...        ...  ...        ...        ...   \n",
       "7556  21.214298  7.750279  6.303279  28.501603  ...  20.305586  10.567923   \n",
       "7557  21.292610  7.675489  6.335426  28.247321  ...  20.307537  10.484931   \n",
       "7558  21.348914  7.706081  6.285865  28.623169  ...  20.105429  10.444541   \n",
       "7559  21.076289  7.744749  6.400407  28.690589  ...  20.452161  10.417944   \n",
       "7560  21.305881  7.657927  6.282068  28.340825  ...  20.235367  10.279652   \n",
       "\n",
       "            492       493       494       495        496        497       498  \\\n",
       "0      1.000000  1.000000  1.000000  1.000000   1.000000   1.000000  1.000000   \n",
       "1      1.004224  1.004411  0.994988  0.993232   0.999286   0.987301  1.001936   \n",
       "2      1.000288  0.995404  0.991443  0.995510   0.998896   0.989258  1.000198   \n",
       "3      1.015332  1.001979  0.983979  0.995120   1.002674   0.981745  1.000181   \n",
       "4      1.015641  1.013422  0.977437  0.980733   1.007107   0.987583  0.992382   \n",
       "...         ...       ...       ...       ...        ...        ...       ...   \n",
       "7556  45.004800  4.710249  6.534767  5.087022  14.992308  11.747409  9.836952   \n",
       "7557  45.115666  4.750943  6.562818  5.100884  15.194419  11.788627  9.811940   \n",
       "7558  45.106140  4.695206  6.554079  5.151882  15.125129  11.820981  9.852526   \n",
       "7559  44.850104  4.757398  6.566549  5.159674  15.323967  11.843713  9.843076   \n",
       "7560  44.993446  4.839462  6.514096  5.100416  15.363822  11.939603  9.807617   \n",
       "\n",
       "           499  \n",
       "0     1.000000  \n",
       "1     0.989157  \n",
       "2     0.987300  \n",
       "3     0.996587  \n",
       "4     0.991004  \n",
       "...        ...  \n",
       "7556  7.998356  \n",
       "7557  7.955214  \n",
       "7558  8.019617  \n",
       "7559  7.890590  \n",
       "7560  7.940234  \n",
       "\n",
       "[7561 rows x 500 columns]"
      ]
     },
     "execution_count": 95,
     "metadata": {},
     "output_type": "execute_result"
    }
   ],
   "source": [
    "# Run the Monte Carlo simulation to forecast 30 years cumulative returns\n",
    "MC_thirty_year.calc_cumulative_return()\n"
   ]
  },
  {
   "cell_type": "code",
   "execution_count": 96,
   "metadata": {},
   "outputs": [
    {
     "data": {
      "image/png": "[encoded data removed]",
      "text/plain": [
       "<Figure size 432x288 with 1 Axes>"
      ]
     },
     "metadata": {
      "needs_background": "light"
     },
     "output_type": "display_data"
    }
   ],
   "source": [
    "# Visualize the 30-year Monte Carlo simulation by creating an\n",
    "# overlay line plot\n",
    "MC_line_plot = MC_thirty_year.plot_simulation()\n"
   ]
  },
  {
   "cell_type": "markdown",
   "metadata": {},
   "source": [
    "#### Step 3: Plot the probability distribution of the Monte Carlo simulation."
   ]
  },
  {
   "cell_type": "code",
   "execution_count": 97,
   "metadata": {},
   "outputs": [
    {
     "data": {
      "image/png": "[encoded data removed]",
      "text/plain": [
       "<Figure size 432x288 with 1 Axes>"
      ]
     },
     "metadata": {
      "needs_background": "light"
     },
     "output_type": "display_data"
    }
   ],
   "source": [
    "# Visualize the probability distribution of the 30-year Monte Carlo simulation \n",
    "# by plotting a histogram\n",
    "MC_histo_plot = MC_thirty_year.plot_distribution()\n"
   ]
  },
  {
   "cell_type": "markdown",
   "metadata": {},
   "source": [
    "#### Step 4: Generate the summary statistics for the Monte Carlo simulation."
   ]
  },
  {
   "cell_type": "code",
   "execution_count": 98,
   "metadata": {},
   "outputs": [
    {
     "data": {
      "text/plain": [
       "count           500.000000\n",
       "mean             15.438292\n",
       "std              12.846996\n",
       "min               1.706554\n",
       "25%               6.989614\n",
       "50%              11.247584\n",
       "75%              18.617718\n",
       "max             102.639540\n",
       "95% CI Lower      2.787407\n",
       "95% CI Upper     49.948006\n",
       "Name: 7560, dtype: float64"
      ]
     },
     "metadata": {},
     "output_type": "display_data"
    }
   ],
   "source": [
    "# Generate summary statistics from the 30-year Monte Carlo simulation results\n",
    "# Save the results as a variable\n",
    "MC_summary_stats = MC_thirty_year.summarize_cumulative_return()\n",
    "\n",
    "\n",
    "# Review the 30-year Monte Carlo summary statistics\n",
    "display(MC_summary_stats)"
   ]
  },
  {
   "cell_type": "markdown",
   "metadata": {},
   "source": [
    "### Analyze the Retirement Portfolio Forecasts\n",
    "\n",
    "Using the current value of only the stock and bond portion of the member's portfolio and the summary statistics that you generated from the Monte Carlo simulation, answer the following question in your Jupyter notebook:\n",
    "\n",
    "-  What are the lower and upper bounds for the expected value of the portfolio with a 95% confidence interval?\n"
   ]
  },
  {
   "cell_type": "code",
   "execution_count": null,
   "metadata": {},
   "outputs": [],
   "source": [
    "# Print the current balance of the stock and bond portion of the members portfolio\n",
    "# YOUR CODE HERE\n"
   ]
  },
  {
   "cell_type": "code",
   "execution_count": null,
   "metadata": {},
   "outputs": [],
   "source": [
    "# Use the lower and upper `95%` confidence intervals to calculate the range of the possible outcomes for the current stock/bond portfolio\n",
    "ci_lower_thirty_cumulative_return = # YOUR CODE HERE\n",
    "ci_upper_thirty_cumulative_return = # YOUR CODE HERE\n",
    "\n",
    "# Print the result of your calculations\n",
    "# YOUR CODE HERE\n"
   ]
  },
  {
   "cell_type": "markdown",
   "metadata": {},
   "source": [
    "### Forecast Cumulative Returns in 10 Years\n",
    "\n",
    "The CTO of the credit union is impressed with your work on these planning tools but wonders if 30 years is a long time to wait until retirement. So, your next task is to adjust the retirement portfolio and run a new Monte Carlo simulation to find out if the changes will allow members to retire earlier.\n",
    "\n",
    "For this new Monte Carlo simulation, do the following: \n",
    "\n",
    "- Forecast the cumulative returns for 10 years from now. Because of the shortened investment horizon (30 years to 10 years), the portfolio needs to invest more heavily in the riskier asset&mdash;that is, stock&mdash;to help accumulate wealth for retirement. \n",
    "\n",
    "- Adjust the weights of the retirement portfolio so that the composition for the Monte Carlo simulation consists of 20% bonds and 80% stocks. \n",
    "\n",
    "- Run the simulation over 500 samples, and use the same data that the API call to Alpaca generated.\n",
    "\n",
    "- Based on the new Monte Carlo simulation, answer the following questions in your Jupyter notebook:\n",
    "\n",
    "    - Using the current value of only the stock and bond portion of the member's portfolio and the summary statistics that you generated from the new Monte Carlo simulation, what are the lower and upper bounds for the expected value of the portfolio (with the new weights) with a 95% confidence interval?\n",
    "\n",
    "    - Will weighting the portfolio more heavily toward stocks allow the credit union members to retire after only 10 years?\n"
   ]
  },
  {
   "cell_type": "code",
   "execution_count": null,
   "metadata": {},
   "outputs": [],
   "source": [
    "# Configure a Monte Carlo simulation to forecast 10 years cumulative returns\n",
    "# The weights should be split 20% to AGG and 80% to SPY.\n",
    "# Run 500 samples.\n",
    "# YOUR CODE HERE\n",
    "\n",
    "# Review the simulation input data\n",
    "# YOUR CODE HERE\n"
   ]
  },
  {
   "cell_type": "code",
   "execution_count": null,
   "metadata": {},
   "outputs": [],
   "source": [
    "# Run the Monte Carlo simulation to forecast 10 years cumulative returns\n",
    "# YOUR CODE HERE\n"
   ]
  },
  {
   "cell_type": "code",
   "execution_count": null,
   "metadata": {},
   "outputs": [],
   "source": [
    "# Visualize the 10-year Monte Carlo simulation by creating an\n",
    "# overlay line plot\n",
    "# YOUR CODE HERE\n"
   ]
  },
  {
   "cell_type": "code",
   "execution_count": null,
   "metadata": {},
   "outputs": [],
   "source": [
    "# Visualize the probability distribution of the 10-year Monte Carlo simulation \n",
    "# by plotting a histogram\n",
    "# YOUR CODE HERE\n"
   ]
  },
  {
   "cell_type": "code",
   "execution_count": null,
   "metadata": {},
   "outputs": [],
   "source": [
    "# Generate summary statistics from the 10-year Monte Carlo simulation results\n",
    "# Save the results as a variable\n",
    "# YOUR CODE HERE\n",
    "\n",
    "\n",
    "# Review the 10-year Monte Carlo summary statistics\n",
    "# YOUR CODE HERE"
   ]
  },
  {
   "cell_type": "markdown",
   "metadata": {},
   "source": [
    "### Answer the following questions:"
   ]
  },
  {
   "cell_type": "markdown",
   "metadata": {},
   "source": [
    "#### Question: Using the current value of only the stock and bond portion of the member's portfolio and the summary statistics that you generated from the new Monte Carlo simulation, what are the lower and upper bounds for the expected value of the portfolio (with the new weights) with a 95% confidence interval?"
   ]
  },
  {
   "cell_type": "code",
   "execution_count": null,
   "metadata": {},
   "outputs": [],
   "source": [
    "# Print the current balance of the stock and bond portion of the members portfolio\n",
    "# YOUR CODE HERE\n"
   ]
  },
  {
   "cell_type": "code",
   "execution_count": null,
   "metadata": {},
   "outputs": [],
   "source": [
    "# Use the lower and upper `95%` confidence intervals to calculate the range of the possible outcomes for the current stock/bond portfolio\n",
    "ci_lower_ten_cumulative_return = # YOUR CODE HERE\n",
    "ci_upper_ten_cumulative_return = # YOUR CODE HERE\n",
    "\n",
    "# Print the result of your calculations\n",
    "# YOUR CODE HERE\n"
   ]
  },
  {
   "cell_type": "markdown",
   "metadata": {},
   "source": [
    "#### Question: Will weighting the portfolio more heavily to stocks allow the credit union members to retire after only 10 years?"
   ]
  },
  {
   "cell_type": "raw",
   "metadata": {},
   "source": [
    "**Answer** # YOUR ANSWER HERE"
   ]
  },
  {
   "cell_type": "code",
   "execution_count": null,
   "metadata": {},
   "outputs": [],
   "source": []
  }
 ],
 "metadata": {
  "kernelspec": {
   "display_name": "Python 3 (ipykernel)",
   "language": "python",
   "name": "python3"
  },
  "language_info": {
   "codemirror_mode": {
    "name": "ipython",
    "version": 3
   },
   "file_extension": ".py",
   "mimetype": "text/x-python",
   "name": "python",
   "nbconvert_exporter": "python",
   "pygments_lexer": "ipython3",
   "version": "3.9.7"
  }
 },
 "nbformat": 4,
 "nbformat_minor": 4
}
